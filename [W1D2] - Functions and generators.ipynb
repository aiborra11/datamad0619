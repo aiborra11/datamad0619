{
 "cells": [
  {
   "cell_type": "markdown",
   "metadata": {},
   "source": [
    "- Functions, arguments, how to call a function\n",
    "    * Functions\n",
    "        - Parameters vs arguments: \n",
    "            * Parameters are in the function signature\n",
    "            * Arguments are expressions used to call a function\n",
    "        - Named Python Functional Parameters (with defaults)\n",
    "        - Python Function Parameter Order\n",
    "        - Variable Python Function Parameter Lists\n",
    "            ```python\n",
    "            def lessThan(cutoffVal, *vals) :\n",
    "            ''' Return a list of values less than the cutoff. '''\n",
    "            arr = []\n",
    "            for val in vals :\n",
    "                if val < cutoffVal:\n",
    "                    arr.append(val)\n",
    "            return arr\n",
    "            ```\n",
    "        - https://www.learnpython.org/en/Functions\n",
    "        - *args, **kwargs\n",
    "\n",
    "- String operations: Split & Join\n",
    "\n",
    "- THE CALLBACK PATTERN\n",
    "    * A bit of code reusability\n",
    "    * http://code.activestate.com/recipes/580787-implementing-function-based-callbacksin-python/\n"
   ]
  },
  {
   "cell_type": "code",
   "execution_count": 14,
   "metadata": {},
   "outputs": [
    {
     "name": "stdout",
     "output_type": "stream",
     "text": [
      "Hola Juan\n",
      "Hola Pepe\n",
      "4 <class 'int'>\n",
      "(4, 4, 6) <class 'tuple'>\n"
     ]
    }
   ],
   "source": [
    "def saluda(nombre):\n",
    "    print(\"Hola {}\".format(nombre))\n",
    "    return 4,4,6\n",
    "\n",
    "saluda(\"Juan\")\n",
    "a = saluda(\"Pepe\")\n",
    "print(b, type(b))\n",
    "print(a, type(a))"
   ]
  },
  {
   "cell_type": "code",
   "execution_count": 23,
   "metadata": {},
   "outputs": [
    {
     "name": "stdout",
     "output_type": "stream",
     "text": [
      "Hola Pepe\n",
      "Hello Pepe\n",
      "No se como saludarte\n",
      "Hola Juan\n",
      "Hola PEPE\n"
     ]
    }
   ],
   "source": [
    "def hola(nombre=\"PEPE\",idioma=\"ES\"):\n",
    "    if idioma == \"ES\":\n",
    "        print(\"Hola {}\".format(nombre))\n",
    "    elif idioma == \"EN\":\n",
    "        print(\"Hello {}\".format(nombre))\n",
    "    else:\n",
    "        print(\"No se como saludarte\")\n",
    "\n",
    "        \n",
    "hola(\"Pepe\",\"ES\")\n",
    "hola(\"Pepe\",\"EN\")\n",
    "hola(\"Juan\",\"pepe\")\n",
    "hola(\"Juan\")\n",
    "hola()"
   ]
  },
  {
   "cell_type": "code",
   "execution_count": 33,
   "metadata": {},
   "outputs": [
    {
     "name": "stdout",
     "output_type": "stream",
     "text": [
      "Hola Luis\n",
      "Hello Luis\n",
      "No se como saludarte\n",
      "No se como saludarte\n",
      "No se como saludarte\n",
      "Hola Luis\n",
      "Hola LuisLuis\n",
      "Hello LuisLuis\n"
     ]
    }
   ],
   "source": [
    "def saludadorMax(nombre,idioma):\n",
    "    if idioma == \"ES\":\n",
    "        print(\"Hola {}\".format(nombre))\n",
    "    elif idioma == \"EN\":\n",
    "        print(\"Hello {}\".format(nombre))\n",
    "    else:\n",
    "        print(\"No se como saludarte\")\n",
    "\n",
    "        \n",
    "def saludameVariosIdiomas(q,p=[\"ES\",\"EN\"]):\n",
    "    for lang in p:\n",
    "        saludadorMax(q,lang)\n",
    " \n",
    "nombre=\"Luis\"\n",
    "saludameVariosIdiomas(nombre,[\"ES\",\"EN\",\"GR\",7,\"\",\"ES\"])\n",
    "saludameVariosIdiomas(nombre*2)"
   ]
  },
  {
   "cell_type": "code",
   "execution_count": 44,
   "metadata": {},
   "outputs": [
    {
     "name": "stdout",
     "output_type": "stream",
     "text": [
      "Hola,Hola,Hola,Hola,Hola,Hola,Hola,Hola,Hola,Hola,Hola,Hola,Hola,Hola,Hola,Hola,Hola,Hola,Hola,Hola,Hola,Hola,Hola,Hola,Hola,Hola,Hola,Hola,Hola,Hola,Hola,Hola,Hola,Hola,Hola,Hola,Hola,Hola,Hola,Hola,Hola,Hola,Hola,Hola,Hola,Hola,Hola,Hola,Hola,Hola,Hola,Hola,Hola,Hola,Hola,Hola,Hola,Hola,Hola,Hola,Hola,Hola,Hola,Hola,Hola,Hola,Hola,Hola,Hola,Hola,Hola,Hola,Hola,Hola,Hola,Hola,Hola,Hola,Hola,Hola,Hola,Hola,Hola,Hola,Hola,Hola,Hola,Hola,Hola,Hola,Hola,Hola,Hola,Hola,Hola,Hola,Hola,Hola,Hola,Hola\n",
      "Hola,Hola,Hola,Hola,Hola,Hola,Hola,Hola,Hola,Hola,Hola,Hola,Hola,Hola,Hola,Hola,Hola,Hola,Hola,Hola,Hola,Hola,Hola,Hola,Hola,Hola,Hola,Hola,Hola,Hola,Hola,Hola,Hola,Hola,Hola,Hola,Hola,Hola,Hola,Hola,Hola,Hola,Hola,Hola,Hola,Hola,Hola,Hola,Hola,Hola,Hola,Hola,Hola,Hola,Hola,Hola,Hola,Hola,Hola,Hola,Hola,Hola,Hola,Hola,Hola,Hola,Hola,Hola,Hola,Hola,Hola,Hola,Hola,Hola,Hola,Hola,Hola,Hola,Hola,Hola,Hola,Hola,Hola,Hola,Hola,Hola,Hola,Hola,Hola,Hola,Hola,Hola,Hola,Hola,Hola,Hola,Hola,Hola,Hola,Hola\n"
     ]
    }
   ],
   "source": [
    "a = \"Hola,\"*100\n",
    "\n",
    "m = \"\"\n",
    "for e in range(len(a)-1):\n",
    "    m = m + a[e]\n",
    "\n",
    "print(m)\n",
    "\n",
    "print(a[:-1])"
   ]
  },
  {
   "cell_type": "code",
   "execution_count": 46,
   "metadata": {},
   "outputs": [
    {
     "name": "stdout",
     "output_type": "stream",
     "text": [
      "<class 'function'>\n",
      "Hola Luis\n",
      "Hello Luis\n",
      "No se como saludarte\n",
      "No se como saludarte\n",
      "No se como saludarte\n",
      "Hola Luis\n",
      "Hola LuisLuis\n",
      "Hello LuisLuis\n"
     ]
    }
   ],
   "source": [
    "def saludadorMax(nombre,idioma):\n",
    "    if idioma == \"ES\":\n",
    "        print(\"Hola {}\".format(nombre))\n",
    "    elif idioma == \"EN\":\n",
    "        print(\"Hello {}\".format(nombre))\n",
    "    else:\n",
    "        print(\"No se como saludarte\")\n",
    "\n",
    "        \n",
    "def saludameVariosIdiomas(q,w,p=[\"ES\",\"EN\"]):\n",
    "    for lang in p:\n",
    "        w(q,lang)\n",
    " \n",
    "print(type(saludadorMax))\n",
    "nombre=\"Luis\"\n",
    "saludameVariosIdiomas(nombre,saludadorMax,[\"ES\",\"EN\",\"GR\",7,\"\",\"ES\"])\n",
    "saludameVariosIdiomas(nombre*2,saludadorMax)"
   ]
  },
  {
   "cell_type": "code",
   "execution_count": 57,
   "metadata": {},
   "outputs": [
    {
     "name": "stdout",
     "output_type": "stream",
     "text": [
      "['Pepe', 'Juan']\n",
      "Hola Pepe\n",
      "Hola Juan\n"
     ]
    }
   ],
   "source": [
    "def saludaAmigos(nombre1,nombre2):\n",
    "    n = [nombre1,nombre2]\n",
    "    print(n)\n",
    "    for e in n:\n",
    "        print(\"Hola {}\".format(e))\n",
    "\n",
    "h = [\"Pepe\",\"Juan\"]\n",
    "saludaAmigos(*h)\n",
    "# saludaAmigos(h[0],h[1])"
   ]
  },
  {
   "cell_type": "code",
   "execution_count": 51,
   "metadata": {},
   "outputs": [
    {
     "name": "stdout",
     "output_type": "stream",
     "text": [
      "Hola Pepe\n",
      "Hola Juan\n"
     ]
    }
   ],
   "source": [
    "def saludaAmigos(n):\n",
    "    for e in n:\n",
    "        print(\"Hola {}\".format(e))\n",
    "\n",
    "saludaAmigos([\"Pepe\",\"Juan\"])"
   ]
  },
  {
   "cell_type": "code",
   "execution_count": 68,
   "metadata": {},
   "outputs": [
    {
     "name": "stdout",
     "output_type": "stream",
     "text": [
      "('Pepe', 'Juan')\n",
      "Hola Pepe\n",
      "Hola Juan\n"
     ]
    }
   ],
   "source": [
    "def saludaAmigos(*n):\n",
    "    print(n)\n",
    "    for e in n:\n",
    "        print(\"Hola {}\".format(e))\n",
    "\n",
    "nombres = [\"Pepe\",\"Juan\"]\n",
    "saludaAmigos(*nombres)"
   ]
  },
  {
   "cell_type": "code",
   "execution_count": 74,
   "metadata": {},
   "outputs": [
    {
     "name": "stdout",
     "output_type": "stream",
     "text": [
      "Hola Paco, tienes 50 años 😎 eres Bombero\n"
     ]
    }
   ],
   "source": [
    "\n",
    "def saludaAmigo(nombre, profesion=\"Bombero\", edad=30):\n",
    "    print(\"Hola {}, tienes {} años 😎 eres {}\".format(nombre,edad, profesion))\n",
    "    \n",
    "\n",
    "saludaAmigo(\"Paco\",edad=50)"
   ]
  },
  {
   "cell_type": "code",
   "execution_count": 82,
   "metadata": {},
   "outputs": [
    {
     "name": "stdout",
     "output_type": "stream",
     "text": [
      "Hola Paco, tienes 30 años 😎 eres Carnicero\n"
     ]
    }
   ],
   "source": [
    "amigo = {\n",
    "    \"nombre\":\"Paco\",\n",
    "    \"profesion\":\"Carnicero\",\n",
    "}\n",
    "\n",
    "#saludaAmigo(amigo[\"nombre\"],amigo[\"profesion\"],amigo[\"edad\"])\n",
    "saludaAmigo(**amigo)\n"
   ]
  },
  {
   "cell_type": "code",
   "execution_count": 93,
   "metadata": {},
   "outputs": [
    {
     "ename": "SyntaxError",
     "evalue": "positional argument follows keyword argument (<ipython-input-93-674740f0882c>, line 5)",
     "output_type": "error",
     "traceback": [
      "\u001b[0;36m  File \u001b[0;32m\"<ipython-input-93-674740f0882c>\"\u001b[0;36m, line \u001b[0;32m5\u001b[0m\n\u001b[0;31m    genericFN(1,2,3,4,5, hola=33, nombre=\"Pepe\", 5,5)\u001b[0m\n\u001b[0m                                                ^\u001b[0m\n\u001b[0;31mSyntaxError\u001b[0m\u001b[0;31m:\u001b[0m positional argument follows keyword argument\n"
     ]
    }
   ],
   "source": [
    "def genericFN(*args,**kwargs):\n",
    "    print(\"ARGS\",args)\n",
    "    print(\"KWARGS\",kwargs)\n",
    "    \n",
    "genericFN(1,2,3,4,5, hola=33, nombre=\"Pepe\")\n"
   ]
  },
  {
   "cell_type": "code",
   "execution_count": 90,
   "metadata": {},
   "outputs": [
    {
     "name": "stdout",
     "output_type": "stream",
     "text": [
      "ARGS (1, 2, 3, 4, 5)\n",
      "KWARGS {'Hola': 33, 'nombre': 'pepe'}\n"
     ]
    }
   ],
   "source": [
    "\n",
    "amigo = {\n",
    "    \"Hola\":33,\n",
    "    \"nombre\":\"pepe\"\n",
    "}\n",
    "genericFN(1,2,3,4,5, **amigo)"
   ]
  },
  {
   "cell_type": "code",
   "execution_count": 98,
   "metadata": {},
   "outputs": [
    {
     "name": "stdout",
     "output_type": "stream",
     "text": [
      "[2, 11, 120]\n"
     ]
    }
   ],
   "source": [
    "def calculaMaximo(*n):\n",
    "    m = n[0]\n",
    "    for e in n:\n",
    "        if e > m:\n",
    "            m = e\n",
    "    return m\n",
    "\n",
    "h = [2,4,5,8,11]\n",
    "values = [\n",
    "    calculaMaximo(2),\n",
    "    calculaMaximo(*h),\n",
    "    calculaMaximo(2,120,8,11)\n",
    "]\n",
    "print(values)"
   ]
  },
  {
   "cell_type": "code",
   "execution_count": null,
   "metadata": {},
   "outputs": [],
   "source": []
  }
 ],
 "metadata": {
  "kernelspec": {
   "display_name": "Python 3",
   "language": "python",
   "name": "python3"
  },
  "language_info": {
   "codemirror_mode": {
    "name": "ipython",
    "version": 3
   },
   "file_extension": ".py",
   "mimetype": "text/x-python",
   "name": "python",
   "nbconvert_exporter": "python",
   "pygments_lexer": "ipython3",
   "version": "3.7.2"
  }
 },
 "nbformat": 4,
 "nbformat_minor": 2
}
