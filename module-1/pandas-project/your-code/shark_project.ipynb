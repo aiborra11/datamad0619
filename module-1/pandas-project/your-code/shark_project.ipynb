{
 "cells": [
  {
   "cell_type": "code",
   "execution_count": 1,
   "metadata": {},
   "outputs": [],
   "source": [
    "import pymysql\n",
    "import pandas as pd\n",
    "import re\n",
    "import matplotlib.pyplot as plt"
   ]
  },
  {
   "cell_type": "code",
   "execution_count": 2,
   "metadata": {},
   "outputs": [
    {
     "data": {
      "text/html": [
       "<div>\n",
       "<style scoped>\n",
       "    .dataframe tbody tr th:only-of-type {\n",
       "        vertical-align: middle;\n",
       "    }\n",
       "\n",
       "    .dataframe tbody tr th {\n",
       "        vertical-align: top;\n",
       "    }\n",
       "\n",
       "    .dataframe thead th {\n",
       "        text-align: right;\n",
       "    }\n",
       "</style>\n",
       "<table border=\"1\" class=\"dataframe\">\n",
       "  <thead>\n",
       "    <tr style=\"text-align: right;\">\n",
       "      <th></th>\n",
       "      <th>Case Number</th>\n",
       "      <th>Date</th>\n",
       "      <th>Year</th>\n",
       "      <th>Type</th>\n",
       "      <th>Country</th>\n",
       "      <th>Area</th>\n",
       "      <th>Location</th>\n",
       "      <th>Activity</th>\n",
       "      <th>Name</th>\n",
       "      <th>Sex</th>\n",
       "      <th>...</th>\n",
       "      <th>Species</th>\n",
       "      <th>Investigator or Source</th>\n",
       "      <th>pdf</th>\n",
       "      <th>href formula</th>\n",
       "      <th>href</th>\n",
       "      <th>Case Number.1</th>\n",
       "      <th>Case Number.2</th>\n",
       "      <th>original order</th>\n",
       "      <th>Unnamed: 22</th>\n",
       "      <th>Unnamed: 23</th>\n",
       "    </tr>\n",
       "  </thead>\n",
       "  <tbody>\n",
       "    <tr>\n",
       "      <th>0</th>\n",
       "      <td>2016.09.18.c</td>\n",
       "      <td>18-Sep-16</td>\n",
       "      <td>2016</td>\n",
       "      <td>Unprovoked</td>\n",
       "      <td>USA</td>\n",
       "      <td>Florida</td>\n",
       "      <td>New Smyrna Beach, Volusia County</td>\n",
       "      <td>Surfing</td>\n",
       "      <td>male</td>\n",
       "      <td>M</td>\n",
       "      <td>...</td>\n",
       "      <td>NaN</td>\n",
       "      <td>Orlando Sentinel, 9/19/2016</td>\n",
       "      <td>2016.09.18.c-NSB.pdf</td>\n",
       "      <td>http://sharkattackfile.net/spreadsheets/pdf_di...</td>\n",
       "      <td>http://sharkattackfile.net/spreadsheets/pdf_di...</td>\n",
       "      <td>2016.09.18.c</td>\n",
       "      <td>2016.09.18.c</td>\n",
       "      <td>5993</td>\n",
       "      <td>NaN</td>\n",
       "      <td>NaN</td>\n",
       "    </tr>\n",
       "    <tr>\n",
       "      <th>1</th>\n",
       "      <td>2016.09.18.b</td>\n",
       "      <td>18-Sep-16</td>\n",
       "      <td>2016</td>\n",
       "      <td>Unprovoked</td>\n",
       "      <td>USA</td>\n",
       "      <td>Florida</td>\n",
       "      <td>New Smyrna Beach, Volusia County</td>\n",
       "      <td>Surfing</td>\n",
       "      <td>Chucky Luciano</td>\n",
       "      <td>M</td>\n",
       "      <td>...</td>\n",
       "      <td>NaN</td>\n",
       "      <td>Orlando Sentinel, 9/19/2016</td>\n",
       "      <td>2016.09.18.b-Luciano.pdf</td>\n",
       "      <td>http://sharkattackfile.net/spreadsheets/pdf_di...</td>\n",
       "      <td>http://sharkattackfile.net/spreadsheets/pdf_di...</td>\n",
       "      <td>2016.09.18.b</td>\n",
       "      <td>2016.09.18.b</td>\n",
       "      <td>5992</td>\n",
       "      <td>NaN</td>\n",
       "      <td>NaN</td>\n",
       "    </tr>\n",
       "    <tr>\n",
       "      <th>2</th>\n",
       "      <td>2016.09.18.a</td>\n",
       "      <td>18-Sep-16</td>\n",
       "      <td>2016</td>\n",
       "      <td>Unprovoked</td>\n",
       "      <td>USA</td>\n",
       "      <td>Florida</td>\n",
       "      <td>New Smyrna Beach, Volusia County</td>\n",
       "      <td>Surfing</td>\n",
       "      <td>male</td>\n",
       "      <td>M</td>\n",
       "      <td>...</td>\n",
       "      <td>NaN</td>\n",
       "      <td>Orlando Sentinel, 9/19/2016</td>\n",
       "      <td>2016.09.18.a-NSB.pdf</td>\n",
       "      <td>http://sharkattackfile.net/spreadsheets/pdf_di...</td>\n",
       "      <td>http://sharkattackfile.net/spreadsheets/pdf_di...</td>\n",
       "      <td>2016.09.18.a</td>\n",
       "      <td>2016.09.18.a</td>\n",
       "      <td>5991</td>\n",
       "      <td>NaN</td>\n",
       "      <td>NaN</td>\n",
       "    </tr>\n",
       "    <tr>\n",
       "      <th>3</th>\n",
       "      <td>2016.09.17</td>\n",
       "      <td>17-Sep-16</td>\n",
       "      <td>2016</td>\n",
       "      <td>Unprovoked</td>\n",
       "      <td>AUSTRALIA</td>\n",
       "      <td>Victoria</td>\n",
       "      <td>Thirteenth Beach</td>\n",
       "      <td>Surfing</td>\n",
       "      <td>Rory Angiolella</td>\n",
       "      <td>M</td>\n",
       "      <td>...</td>\n",
       "      <td>NaN</td>\n",
       "      <td>The Age, 9/18/2016</td>\n",
       "      <td>2016.09.17-Angiolella.pdf</td>\n",
       "      <td>http://sharkattackfile.net/spreadsheets/pdf_di...</td>\n",
       "      <td>http://sharkattackfile.net/spreadsheets/pdf_di...</td>\n",
       "      <td>2016.09.17</td>\n",
       "      <td>2016.09.17</td>\n",
       "      <td>5990</td>\n",
       "      <td>NaN</td>\n",
       "      <td>NaN</td>\n",
       "    </tr>\n",
       "    <tr>\n",
       "      <th>4</th>\n",
       "      <td>2016.09.15</td>\n",
       "      <td>16-Sep-16</td>\n",
       "      <td>2016</td>\n",
       "      <td>Unprovoked</td>\n",
       "      <td>AUSTRALIA</td>\n",
       "      <td>Victoria</td>\n",
       "      <td>Bells Beach</td>\n",
       "      <td>Surfing</td>\n",
       "      <td>male</td>\n",
       "      <td>M</td>\n",
       "      <td>...</td>\n",
       "      <td>2 m shark</td>\n",
       "      <td>The Age, 9/16/2016</td>\n",
       "      <td>2016.09.16-BellsBeach.pdf</td>\n",
       "      <td>http://sharkattackfile.net/spreadsheets/pdf_di...</td>\n",
       "      <td>http://sharkattackfile.net/spreadsheets/pdf_di...</td>\n",
       "      <td>2016.09.16</td>\n",
       "      <td>2016.09.15</td>\n",
       "      <td>5989</td>\n",
       "      <td>NaN</td>\n",
       "      <td>NaN</td>\n",
       "    </tr>\n",
       "  </tbody>\n",
       "</table>\n",
       "<p>5 rows × 24 columns</p>\n",
       "</div>"
      ],
      "text/plain": [
       "    Case Number       Date  Year        Type    Country      Area  \\\n",
       "0  2016.09.18.c  18-Sep-16  2016  Unprovoked        USA   Florida   \n",
       "1  2016.09.18.b  18-Sep-16  2016  Unprovoked        USA   Florida   \n",
       "2  2016.09.18.a  18-Sep-16  2016  Unprovoked        USA   Florida   \n",
       "3    2016.09.17  17-Sep-16  2016  Unprovoked  AUSTRALIA  Victoria   \n",
       "4    2016.09.15  16-Sep-16  2016  Unprovoked  AUSTRALIA  Victoria   \n",
       "\n",
       "                           Location Activity             Name Sex   ...  \\\n",
       "0  New Smyrna Beach, Volusia County  Surfing             male    M  ...   \n",
       "1  New Smyrna Beach, Volusia County  Surfing   Chucky Luciano    M  ...   \n",
       "2  New Smyrna Beach, Volusia County  Surfing             male    M  ...   \n",
       "3                  Thirteenth Beach  Surfing  Rory Angiolella    M  ...   \n",
       "4                       Bells Beach  Surfing             male    M  ...   \n",
       "\n",
       "    Species        Investigator or Source                        pdf  \\\n",
       "0        NaN  Orlando Sentinel, 9/19/2016       2016.09.18.c-NSB.pdf   \n",
       "1        NaN  Orlando Sentinel, 9/19/2016   2016.09.18.b-Luciano.pdf   \n",
       "2        NaN  Orlando Sentinel, 9/19/2016       2016.09.18.a-NSB.pdf   \n",
       "3        NaN           The Age, 9/18/2016  2016.09.17-Angiolella.pdf   \n",
       "4  2 m shark           The Age, 9/16/2016  2016.09.16-BellsBeach.pdf   \n",
       "\n",
       "                                        href formula  \\\n",
       "0  http://sharkattackfile.net/spreadsheets/pdf_di...   \n",
       "1  http://sharkattackfile.net/spreadsheets/pdf_di...   \n",
       "2  http://sharkattackfile.net/spreadsheets/pdf_di...   \n",
       "3  http://sharkattackfile.net/spreadsheets/pdf_di...   \n",
       "4  http://sharkattackfile.net/spreadsheets/pdf_di...   \n",
       "\n",
       "                                                href Case Number.1  \\\n",
       "0  http://sharkattackfile.net/spreadsheets/pdf_di...  2016.09.18.c   \n",
       "1  http://sharkattackfile.net/spreadsheets/pdf_di...  2016.09.18.b   \n",
       "2  http://sharkattackfile.net/spreadsheets/pdf_di...  2016.09.18.a   \n",
       "3  http://sharkattackfile.net/spreadsheets/pdf_di...    2016.09.17   \n",
       "4  http://sharkattackfile.net/spreadsheets/pdf_di...    2016.09.16   \n",
       "\n",
       "  Case Number.2 original order Unnamed: 22 Unnamed: 23  \n",
       "0  2016.09.18.c           5993         NaN         NaN  \n",
       "1  2016.09.18.b           5992         NaN         NaN  \n",
       "2  2016.09.18.a           5991         NaN         NaN  \n",
       "3    2016.09.17           5990         NaN         NaN  \n",
       "4    2016.09.15           5989         NaN         NaN  \n",
       "\n",
       "[5 rows x 24 columns]"
      ]
     },
     "metadata": {},
     "output_type": "display_data"
    }
   ],
   "source": [
    "data = pd.read_csv('sharks_messy.csv', engine='python')\n",
    "display(data.head())"
   ]
  },
  {
   "cell_type": "code",
   "execution_count": 3,
   "metadata": {},
   "outputs": [
    {
     "name": "stdout",
     "output_type": "stream",
     "text": [
      "shape: (5992, 24)\n",
      "types:\n",
      "\n",
      " Case Number               object\n",
      "Date                      object\n",
      "Year                       int64\n",
      "Type                      object\n",
      "Country                   object\n",
      "Area                      object\n",
      "Location                  object\n",
      "Activity                  object\n",
      "Name                      object\n",
      "Sex                       object\n",
      "Age                       object\n",
      "Injury                    object\n",
      "Fatal (Y/N)               object\n",
      "Time                      object\n",
      "Species                   object\n",
      "Investigator or Source    object\n",
      "pdf                       object\n",
      "href formula              object\n",
      "href                      object\n",
      "Case Number.1             object\n",
      "Case Number.2             object\n",
      "original order             int64\n",
      "Unnamed: 22               object\n",
      "Unnamed: 23               object\n",
      "dtype: object\n",
      "Null values:\n",
      "\n",
      " Case Number                  0\n",
      "Date                         0\n",
      "Year                         0\n",
      "Type                         0\n",
      "Country                     43\n",
      "Area                       402\n",
      "Location                   496\n",
      "Activity                   527\n",
      "Name                       200\n",
      "Sex                        567\n",
      "Age                       2681\n",
      "Injury                      27\n",
      "Fatal (Y/N)                 19\n",
      "Time                      3213\n",
      "Species                   2934\n",
      "Investigator or Source      15\n",
      "pdf                          0\n",
      "href formula                 1\n",
      "href                         3\n",
      "Case Number.1                0\n",
      "Case Number.2                0\n",
      "original order               0\n",
      "Unnamed: 22               5991\n",
      "Unnamed: 23               5990\n",
      "dtype: int64\n"
     ]
    }
   ],
   "source": [
    "print('shape:', data.shape)\n",
    "print('types:\\n\\n', data.dtypes)\n",
    "print('Null values:\\n\\n', data.isna().sum())"
   ]
  },
  {
   "cell_type": "code",
   "execution_count": 4,
   "metadata": {},
   "outputs": [
    {
     "data": {
      "text/plain": [
       "href formula    53\n",
       "href            51\n",
       "dtype: int64"
      ]
     },
     "metadata": {},
     "output_type": "display_data"
    }
   ],
   "source": [
    "#printing info to evaluate if dropping\n",
    "filtered_df = data[data['Unnamed: 22'].notnull()]\n",
    "filtered_df1 = data[data['Unnamed: 23'].notnull()]\n",
    "#display(filtered_df, filtered_df1)\n",
    "#display(data[(data['Case Number'] != data['Case Number.1']) | (data['Case Number'] != data['Case Number.2'])][['Case Number', 'Case Number.1', 'Case Number.2']])\n",
    "#display((data[data['href formula'] != data['href']][['href formula', 'href']]).head())\n",
    "display((data[data['href formula'] != data['href']][['href formula', 'href']]).count())\n"
   ]
  },
  {
   "cell_type": "code",
   "execution_count": 5,
   "metadata": {},
   "outputs": [],
   "source": [
    "#dropping columns with no relevant info. Hypothesis not yet formulated. Just understanding the data and eliminating generic info. \n",
    "\"\"\"\n",
    "1. Unnamed: 23 = All nulls except 1 showing: Teramo change filename\n",
    "2. Unnamed: 22 = All nulls except 1 showing: stopped here\n",
    "3. pdf: includes the data we already have in the table (further explained). Since we cannot work with this data = drop. \n",
    "In case is needed we can reference back to the original dataset.\n",
    "4. Case Number == Case Number.1 == Case Number.2. Hay 13/5992 casos en los que son diferentes. Es una muestra muy peque\n",
    "5. href formula, href and pdf mostly include the same pdf. There are around 53/5992 which have different values but after cheking\n",
    "some of them, they lead to the same website. Since the sample is very small and will not affect significatively the results,\n",
    "I'll eliminate the columns.\n",
    "\n",
    "\"\"\"\n",
    "\n",
    "data_clean = data.drop(['Unnamed: 23','Unnamed: 22', 'pdf','Case Number','Case Number.1', 'Case Number.2', 'href', 'href formula'], axis=1)\n",
    "\n",
    "\n",
    "#display(data_clean.head())\n"
   ]
  },
  {
   "cell_type": "markdown",
   "metadata": {},
   "source": [
    "### Hipotesis\n",
    "\n",
    "**Hipotesis**: Somos los humanos las nuevas focas de los tiburones? \n",
    "Nos estan cazando o les estamos obligando a desplazarse de su habitat?. \n",
    "\n",
    "Para ello, asumo que si el tiburon se desplaza en verano puede que su idea sea la de cazar \n",
    "ya que hay mayor cantidad de personas en las playas y las convertimos en comederos. \n",
    "Si el tiburon se mueve por la orilla en invierno, puede que les estemos desplazando de su habitat.\n",
    "\n",
    "A) Si el numero de ataques es similar en invierno que en verano = les estamos desplazando. No hay motivo alguno para que \n",
    "esten en la orilla. Hay menor cantidad de comida y ellos tienen menos movildiad.\n",
    "B) Si ataques en verano > ataques en invierno == somos focas\n",
    "\n",
    "\n",
    "KEY VALUES: SURFEROS (TAMBIEN PRACTICAN SURF EN INVIERNO. LUGAR (FECHAS DE VERANO DISTINTAS), NAME (TURISTA DE VACACIONES)\n",
    "INJURY (EL TIBURON ESTABA JUGANDO VS ATACA *LEER IDEAS, ))\n"
   ]
  },
  {
   "cell_type": "code",
   "execution_count": 6,
   "metadata": {},
   "outputs": [],
   "source": [
    "data_hypothesis = data_clean.drop(['Investigator or Source', 'original order'], axis=1)"
   ]
  },
  {
   "cell_type": "code",
   "execution_count": 7,
   "metadata": {
    "scrolled": true
   },
   "outputs": [
    {
     "data": {
      "text/plain": [
       "(5992, 14)"
      ]
     },
     "metadata": {},
     "output_type": "display_data"
    }
   ],
   "source": [
    "display(data_hypothesis.shape)"
   ]
  },
  {
   "cell_type": "code",
   "execution_count": 8,
   "metadata": {},
   "outputs": [
    {
     "data": {
      "text/plain": [
       "(5992, 15)"
      ]
     },
     "execution_count": 8,
     "metadata": {},
     "output_type": "execute_result"
    }
   ],
   "source": [
    "#Getting the months numeric\n",
    "def findMonth (m):\n",
    "    months_dict = {\n",
    "        'Jan': 1,\n",
    "        'Feb': 2,\n",
    "        'Mar': 3,\n",
    "        'Apr': 4,\n",
    "        'May': 5,\n",
    "        'Jun': 6,\n",
    "        'Jul': 7,\n",
    "        'Aug': 8,\n",
    "        'Sep': 9,\n",
    "        'Oct': 10,\n",
    "        'Nov': 11,\n",
    "        'Dec': 12,             \n",
    "    }\n",
    "    for month, num in months_dict.items():\n",
    "        if month in m:\n",
    "            return int(num)\n",
    "    return 0\n",
    "\n",
    "data_hypothesis['Month'] = data_hypothesis['Date'].apply(findMonth)\n",
    "#display(data_hypothesis.head())\n",
    "data_hypothesis.shape"
   ]
  },
  {
   "cell_type": "code",
   "execution_count": 9,
   "metadata": {},
   "outputs": [
    {
     "data": {
      "text/plain": [
       "(3793, 14)"
      ]
     },
     "execution_count": 9,
     "metadata": {},
     "output_type": "execute_result"
    }
   ],
   "source": [
    "#Dropping rows where month = 0\n",
    "dh_clean= data_hypothesis[data_hypothesis['Month'] & data_hypothesis['Year'] != 0].copy()\n",
    "\n",
    "#Dropping column date. I don't need the days. With the column Month and Year it's enough\n",
    "dh_clean_base = dh_clean.drop(['Date'], axis=1)\n",
    "\n",
    "#display(dh_clean_base.head())\n",
    "dh_clean_base.shape"
   ]
  },
  {
   "cell_type": "code",
   "execution_count": 10,
   "metadata": {},
   "outputs": [
    {
     "data": {
      "text/html": [
       "<div>\n",
       "<style scoped>\n",
       "    .dataframe tbody tr th:only-of-type {\n",
       "        vertical-align: middle;\n",
       "    }\n",
       "\n",
       "    .dataframe tbody tr th {\n",
       "        vertical-align: top;\n",
       "    }\n",
       "\n",
       "    .dataframe thead th {\n",
       "        text-align: right;\n",
       "    }\n",
       "</style>\n",
       "<table border=\"1\" class=\"dataframe\">\n",
       "  <thead>\n",
       "    <tr style=\"text-align: right;\">\n",
       "      <th></th>\n",
       "      <th>Year</th>\n",
       "      <th>Month</th>\n",
       "      <th>Country</th>\n",
       "      <th>Activity</th>\n",
       "      <th>Fatal (Y/N)</th>\n",
       "    </tr>\n",
       "  </thead>\n",
       "  <tbody>\n",
       "    <tr>\n",
       "      <th>103</th>\n",
       "      <td>2015</td>\n",
       "      <td>12</td>\n",
       "      <td>SOUTH AFRICA</td>\n",
       "      <td>Kayak Fishing</td>\n",
       "      <td>N</td>\n",
       "    </tr>\n",
       "    <tr>\n",
       "      <th>104</th>\n",
       "      <td>2015</td>\n",
       "      <td>12</td>\n",
       "      <td>SPAIN</td>\n",
       "      <td>Swimming</td>\n",
       "      <td>N</td>\n",
       "    </tr>\n",
       "    <tr>\n",
       "      <th>105</th>\n",
       "      <td>2015</td>\n",
       "      <td>12</td>\n",
       "      <td>USA</td>\n",
       "      <td>Paddle boarding</td>\n",
       "      <td>N</td>\n",
       "    </tr>\n",
       "    <tr>\n",
       "      <th>106</th>\n",
       "      <td>2015</td>\n",
       "      <td>12</td>\n",
       "      <td>AUSTRALIA</td>\n",
       "      <td>Surfing</td>\n",
       "      <td>N</td>\n",
       "    </tr>\n",
       "    <tr>\n",
       "      <th>107</th>\n",
       "      <td>2015</td>\n",
       "      <td>12</td>\n",
       "      <td>BRAZIL</td>\n",
       "      <td>Scuba diving</td>\n",
       "      <td>N</td>\n",
       "    </tr>\n",
       "  </tbody>\n",
       "</table>\n",
       "</div>"
      ],
      "text/plain": [
       "     Year  Month       Country         Activity Fatal (Y/N)\n",
       "103  2015     12  SOUTH AFRICA    Kayak Fishing           N\n",
       "104  2015     12         SPAIN         Swimming           N\n",
       "105  2015     12           USA  Paddle boarding           N\n",
       "106  2015     12     AUSTRALIA          Surfing           N\n",
       "107  2015     12        BRAZIL     Scuba diving           N"
      ]
     },
     "metadata": {},
     "output_type": "display_data"
    }
   ],
   "source": [
    "#Creating a new dataframe with the columns to validate the hypothesis - level 1. When are more attacks? Winter vs summer.\n",
    "#LEVEL2: dhf = dh_clean_base[['Year', 'Month', 'Country', 'Activity', 'Time', 'Age', 'Sex ', 'Fatal (Y/N)', 'Species ']]\n",
    "\n",
    "dhf = dh_clean_base[['Year', 'Month', 'Country', 'Activity', 'Fatal (Y/N)']]\n",
    "display(dhf.head())"
   ]
  },
  {
   "cell_type": "code",
   "execution_count": 11,
   "metadata": {},
   "outputs": [],
   "source": [
    "#dh_clean_group= dh_clean_base[dh_clean_base['Month'] & data_hypothesis['Year'] != 0].copy()"
   ]
  },
  {
   "cell_type": "code",
   "execution_count": 12,
   "metadata": {},
   "outputs": [
    {
     "data": {
      "text/plain": [
       "Year\n",
       "2015    139\n",
       "2011    122\n",
       "2014    121\n",
       "2013    116\n",
       "2007     97\n",
       "2009     95\n",
       "2012     91\n",
       "2010     80\n",
       "2005     78\n",
       "1959     73\n",
       "dtype: int64"
      ]
     },
     "metadata": {},
     "output_type": "display_data"
    }
   ],
   "source": [
    "#Attacks/year\n",
    "year_size_sample = dhf.groupby(dhf['Year']).size()\n",
    "display(year_size_sample.sort_values(axis = 0, ascending = False ).head(10))"
   ]
  },
  {
   "cell_type": "code",
   "execution_count": 13,
   "metadata": {},
   "outputs": [
    {
     "data": {
      "text/plain": [
       "<matplotlib.axes._subplots.AxesSubplot at 0x111f54c88>"
      ]
     },
     "execution_count": 13,
     "metadata": {},
     "output_type": "execute_result"
    },
    {
     "data": {
      "image/png": "[encoded data removed]",
      "text/plain": [
       "<Figure size 432x288 with 1 Axes>"
      ]
     },
     "metadata": {
      "needs_background": "light"
     },
     "output_type": "display_data"
    }
   ],
   "source": [
    "#Conclusion 1: More attacks are being registered along years: Are we invading their ecosystem? Are they hunting us?\n",
    "\n",
    "year_size_sample = dhf.groupby(dhf['Year']).size()\n",
    "year_size_sample.plot(x='Year', y='Year')"
   ]
  },
  {
   "cell_type": "code",
   "execution_count": 37,
   "metadata": {},
   "outputs": [
    {
     "data": {
      "text/html": [
       "<div>\n",
       "<style scoped>\n",
       "    .dataframe tbody tr th:only-of-type {\n",
       "        vertical-align: middle;\n",
       "    }\n",
       "\n",
       "    .dataframe tbody tr th {\n",
       "        vertical-align: top;\n",
       "    }\n",
       "\n",
       "    .dataframe thead th {\n",
       "        text-align: right;\n",
       "    }\n",
       "</style>\n",
       "<table border=\"1\" class=\"dataframe\">\n",
       "  <thead>\n",
       "    <tr style=\"text-align: right;\">\n",
       "      <th></th>\n",
       "      <th>Year</th>\n",
       "      <th>Month</th>\n",
       "      <th>Country</th>\n",
       "      <th>Activity</th>\n",
       "      <th>Fatal (Y/N)</th>\n",
       "    </tr>\n",
       "  </thead>\n",
       "  <tbody>\n",
       "    <tr>\n",
       "      <th>103</th>\n",
       "      <td>2015</td>\n",
       "      <td>12</td>\n",
       "      <td>SOUTH AFRICA</td>\n",
       "      <td>Kayak Fishing</td>\n",
       "      <td>N</td>\n",
       "    </tr>\n",
       "    <tr>\n",
       "      <th>104</th>\n",
       "      <td>2015</td>\n",
       "      <td>12</td>\n",
       "      <td>SPAIN</td>\n",
       "      <td>Swimming</td>\n",
       "      <td>N</td>\n",
       "    </tr>\n",
       "    <tr>\n",
       "      <th>105</th>\n",
       "      <td>2015</td>\n",
       "      <td>12</td>\n",
       "      <td>USA</td>\n",
       "      <td>Paddle boarding</td>\n",
       "      <td>N</td>\n",
       "    </tr>\n",
       "    <tr>\n",
       "      <th>106</th>\n",
       "      <td>2015</td>\n",
       "      <td>12</td>\n",
       "      <td>AUSTRALIA</td>\n",
       "      <td>Surfing</td>\n",
       "      <td>N</td>\n",
       "    </tr>\n",
       "    <tr>\n",
       "      <th>107</th>\n",
       "      <td>2015</td>\n",
       "      <td>12</td>\n",
       "      <td>BRAZIL</td>\n",
       "      <td>Scuba diving</td>\n",
       "      <td>N</td>\n",
       "    </tr>\n",
       "  </tbody>\n",
       "</table>\n",
       "</div>"
      ],
      "text/plain": [
       "     Year  Month       Country         Activity Fatal (Y/N)\n",
       "103  2015     12  SOUTH AFRICA    Kayak Fishing           N\n",
       "104  2015     12         SPAIN         Swimming           N\n",
       "105  2015     12           USA  Paddle boarding           N\n",
       "106  2015     12     AUSTRALIA          Surfing           N\n",
       "107  2015     12        BRAZIL     Scuba diving           N"
      ]
     },
     "metadata": {},
     "output_type": "display_data"
    },
    {
     "data": {
      "text/plain": [
       "<matplotlib.axes._subplots.AxesSubplot at 0x112200160>"
      ]
     },
     "execution_count": 37,
     "metadata": {},
     "output_type": "execute_result"
    },
    {
     "data": {
      "image/png": "[encoded data removed]",
      "text/plain": [
       "<Figure size 432x288 with 1 Axes>"
      ]
     },
     "metadata": {
      "needs_background": "light"
     },
     "output_type": "display_data"
    }
   ],
   "source": [
    "#To simplify and try more things: I am evaluating if current living sharks are learning that humans are a good source \n",
    "#of food + life expectancy of a shark is between 20-30 years, I will take into account only data since 1980s (30 + 10). \n",
    "\n",
    "dh_clean_years = dhf[dhf['Year'] > 1980].copy()\n",
    "dh_clean_years.shape\n",
    "\n",
    "dhf_years = dh_clean_years[['Year', 'Month', 'Country', 'Activity', 'Fatal (Y/N)']]\n",
    "display(dhf_years.head())\n",
    "\n",
    "year_size_sample1 = dhf_years.groupby(dhf_years['Year']).size()\n",
    "#display (year_size_sample1.head())\n",
    "\n",
    "year_size_sample1.plot(x='Year', y='Year')"
   ]
  },
  {
   "cell_type": "code",
   "execution_count": 38,
   "metadata": {},
   "outputs": [
    {
     "ename": "KeyError",
     "evalue": "('Year', 'Fatal (Y/N)')",
     "output_type": "error",
     "traceback": [
      "\u001b[0;31m---------------------------------------------------------------------------\u001b[0m",
      "\u001b[0;31mKeyError\u001b[0m                                  Traceback (most recent call last)",
      "\u001b[0;32m~/Library/Python/3.7/lib/python/site-packages/pandas/core/indexes/base.py\u001b[0m in \u001b[0;36mget_loc\u001b[0;34m(self, key, method, tolerance)\u001b[0m\n\u001b[1;32m   2656\u001b[0m             \u001b[0;32mtry\u001b[0m\u001b[0;34m:\u001b[0m\u001b[0;34m\u001b[0m\u001b[0;34m\u001b[0m\u001b[0m\n\u001b[0;32m-> 2657\u001b[0;31m                 \u001b[0;32mreturn\u001b[0m \u001b[0mself\u001b[0m\u001b[0;34m.\u001b[0m\u001b[0m_engine\u001b[0m\u001b[0;34m.\u001b[0m\u001b[0mget_loc\u001b[0m\u001b[0;34m(\u001b[0m\u001b[0mkey\u001b[0m\u001b[0;34m)\u001b[0m\u001b[0;34m\u001b[0m\u001b[0;34m\u001b[0m\u001b[0m\n\u001b[0m\u001b[1;32m   2658\u001b[0m             \u001b[0;32mexcept\u001b[0m \u001b[0mKeyError\u001b[0m\u001b[0;34m:\u001b[0m\u001b[0;34m\u001b[0m\u001b[0;34m\u001b[0m\u001b[0m\n",
      "\u001b[0;32mpandas/_libs/index.pyx\u001b[0m in \u001b[0;36mpandas._libs.index.IndexEngine.get_loc\u001b[0;34m()\u001b[0m\n",
      "\u001b[0;32mpandas/_libs/index.pyx\u001b[0m in \u001b[0;36mpandas._libs.index.IndexEngine.get_loc\u001b[0;34m()\u001b[0m\n",
      "\u001b[0;32mpandas/_libs/hashtable_class_helper.pxi\u001b[0m in \u001b[0;36mpandas._libs.hashtable.PyObjectHashTable.get_item\u001b[0;34m()\u001b[0m\n",
      "\u001b[0;32mpandas/_libs/hashtable_class_helper.pxi\u001b[0m in \u001b[0;36mpandas._libs.hashtable.PyObjectHashTable.get_item\u001b[0;34m()\u001b[0m\n",
      "\u001b[0;31mKeyError\u001b[0m: ('Year', 'Fatal (Y/N)')",
      "\nDuring handling of the above exception, another exception occurred:\n",
      "\u001b[0;31mKeyError\u001b[0m                                  Traceback (most recent call last)",
      "\u001b[0;32m<ipython-input-38-168b640f3050>\u001b[0m in \u001b[0;36m<module>\u001b[0;34m\u001b[0m\n\u001b[0;32m----> 1\u001b[0;31m \u001b[0myear_fatal\u001b[0m \u001b[0;34m=\u001b[0m \u001b[0mdhf_years\u001b[0m\u001b[0;34m.\u001b[0m\u001b[0mgroupby\u001b[0m\u001b[0;34m(\u001b[0m\u001b[0mdhf_years\u001b[0m\u001b[0;34m[\u001b[0m\u001b[0;34m'Year'\u001b[0m\u001b[0;34m,\u001b[0m \u001b[0;34m'Fatal (Y/N)'\u001b[0m\u001b[0;34m]\u001b[0m\u001b[0;34m)\u001b[0m\u001b[0;34m\u001b[0m\u001b[0;34m\u001b[0m\u001b[0m\n\u001b[0m\u001b[1;32m      2\u001b[0m \u001b[0mdisplay\u001b[0m\u001b[0;34m(\u001b[0m\u001b[0myear_fatal\u001b[0m\u001b[0;34m)\u001b[0m\u001b[0;34m\u001b[0m\u001b[0;34m\u001b[0m\u001b[0m\n\u001b[1;32m      3\u001b[0m \u001b[0;34m\u001b[0m\u001b[0m\n",
      "\u001b[0;32m~/Library/Python/3.7/lib/python/site-packages/pandas/core/frame.py\u001b[0m in \u001b[0;36m__getitem__\u001b[0;34m(self, key)\u001b[0m\n\u001b[1;32m   2925\u001b[0m             \u001b[0;32mif\u001b[0m \u001b[0mself\u001b[0m\u001b[0;34m.\u001b[0m\u001b[0mcolumns\u001b[0m\u001b[0;34m.\u001b[0m\u001b[0mnlevels\u001b[0m \u001b[0;34m>\u001b[0m \u001b[0;36m1\u001b[0m\u001b[0;34m:\u001b[0m\u001b[0;34m\u001b[0m\u001b[0;34m\u001b[0m\u001b[0m\n\u001b[1;32m   2926\u001b[0m                 \u001b[0;32mreturn\u001b[0m \u001b[0mself\u001b[0m\u001b[0;34m.\u001b[0m\u001b[0m_getitem_multilevel\u001b[0m\u001b[0;34m(\u001b[0m\u001b[0mkey\u001b[0m\u001b[0;34m)\u001b[0m\u001b[0;34m\u001b[0m\u001b[0;34m\u001b[0m\u001b[0m\n\u001b[0;32m-> 2927\u001b[0;31m             \u001b[0mindexer\u001b[0m \u001b[0;34m=\u001b[0m \u001b[0mself\u001b[0m\u001b[0;34m.\u001b[0m\u001b[0mcolumns\u001b[0m\u001b[0;34m.\u001b[0m\u001b[0mget_loc\u001b[0m\u001b[0;34m(\u001b[0m\u001b[0mkey\u001b[0m\u001b[0;34m)\u001b[0m\u001b[0;34m\u001b[0m\u001b[0;34m\u001b[0m\u001b[0m\n\u001b[0m\u001b[1;32m   2928\u001b[0m             \u001b[0;32mif\u001b[0m \u001b[0mis_integer\u001b[0m\u001b[0;34m(\u001b[0m\u001b[0mindexer\u001b[0m\u001b[0;34m)\u001b[0m\u001b[0;34m:\u001b[0m\u001b[0;34m\u001b[0m\u001b[0;34m\u001b[0m\u001b[0m\n\u001b[1;32m   2929\u001b[0m                 \u001b[0mindexer\u001b[0m \u001b[0;34m=\u001b[0m \u001b[0;34m[\u001b[0m\u001b[0mindexer\u001b[0m\u001b[0;34m]\u001b[0m\u001b[0;34m\u001b[0m\u001b[0;34m\u001b[0m\u001b[0m\n",
      "\u001b[0;32m~/Library/Python/3.7/lib/python/site-packages/pandas/core/indexes/base.py\u001b[0m in \u001b[0;36mget_loc\u001b[0;34m(self, key, method, tolerance)\u001b[0m\n\u001b[1;32m   2657\u001b[0m                 \u001b[0;32mreturn\u001b[0m \u001b[0mself\u001b[0m\u001b[0;34m.\u001b[0m\u001b[0m_engine\u001b[0m\u001b[0;34m.\u001b[0m\u001b[0mget_loc\u001b[0m\u001b[0;34m(\u001b[0m\u001b[0mkey\u001b[0m\u001b[0;34m)\u001b[0m\u001b[0;34m\u001b[0m\u001b[0;34m\u001b[0m\u001b[0m\n\u001b[1;32m   2658\u001b[0m             \u001b[0;32mexcept\u001b[0m \u001b[0mKeyError\u001b[0m\u001b[0;34m:\u001b[0m\u001b[0;34m\u001b[0m\u001b[0;34m\u001b[0m\u001b[0m\n\u001b[0;32m-> 2659\u001b[0;31m                 \u001b[0;32mreturn\u001b[0m \u001b[0mself\u001b[0m\u001b[0;34m.\u001b[0m\u001b[0m_engine\u001b[0m\u001b[0;34m.\u001b[0m\u001b[0mget_loc\u001b[0m\u001b[0;34m(\u001b[0m\u001b[0mself\u001b[0m\u001b[0;34m.\u001b[0m\u001b[0m_maybe_cast_indexer\u001b[0m\u001b[0;34m(\u001b[0m\u001b[0mkey\u001b[0m\u001b[0;34m)\u001b[0m\u001b[0;34m)\u001b[0m\u001b[0;34m\u001b[0m\u001b[0;34m\u001b[0m\u001b[0m\n\u001b[0m\u001b[1;32m   2660\u001b[0m         \u001b[0mindexer\u001b[0m \u001b[0;34m=\u001b[0m \u001b[0mself\u001b[0m\u001b[0;34m.\u001b[0m\u001b[0mget_indexer\u001b[0m\u001b[0;34m(\u001b[0m\u001b[0;34m[\u001b[0m\u001b[0mkey\u001b[0m\u001b[0;34m]\u001b[0m\u001b[0;34m,\u001b[0m \u001b[0mmethod\u001b[0m\u001b[0;34m=\u001b[0m\u001b[0mmethod\u001b[0m\u001b[0;34m,\u001b[0m \u001b[0mtolerance\u001b[0m\u001b[0;34m=\u001b[0m\u001b[0mtolerance\u001b[0m\u001b[0;34m)\u001b[0m\u001b[0;34m\u001b[0m\u001b[0;34m\u001b[0m\u001b[0m\n\u001b[1;32m   2661\u001b[0m         \u001b[0;32mif\u001b[0m \u001b[0mindexer\u001b[0m\u001b[0;34m.\u001b[0m\u001b[0mndim\u001b[0m \u001b[0;34m>\u001b[0m \u001b[0;36m1\u001b[0m \u001b[0;32mor\u001b[0m \u001b[0mindexer\u001b[0m\u001b[0;34m.\u001b[0m\u001b[0msize\u001b[0m \u001b[0;34m>\u001b[0m \u001b[0;36m1\u001b[0m\u001b[0;34m:\u001b[0m\u001b[0;34m\u001b[0m\u001b[0;34m\u001b[0m\u001b[0m\n",
      "\u001b[0;32mpandas/_libs/index.pyx\u001b[0m in \u001b[0;36mpandas._libs.index.IndexEngine.get_loc\u001b[0;34m()\u001b[0m\n",
      "\u001b[0;32mpandas/_libs/index.pyx\u001b[0m in \u001b[0;36mpandas._libs.index.IndexEngine.get_loc\u001b[0;34m()\u001b[0m\n",
      "\u001b[0;32mpandas/_libs/hashtable_class_helper.pxi\u001b[0m in \u001b[0;36mpandas._libs.hashtable.PyObjectHashTable.get_item\u001b[0;34m()\u001b[0m\n",
      "\u001b[0;32mpandas/_libs/hashtable_class_helper.pxi\u001b[0m in \u001b[0;36mpandas._libs.hashtable.PyObjectHashTable.get_item\u001b[0;34m()\u001b[0m\n",
      "\u001b[0;31mKeyError\u001b[0m: ('Year', 'Fatal (Y/N)')"
     ]
    }
   ],
   "source": [
    "year_fatal = dhf_years.groupby(dhf_years['Year', 'Fatal (Y/N)'])\n",
    "display(year_fatal)    \n",
    "    "
   ]
  },
  {
   "cell_type": "code",
   "execution_count": 30,
   "metadata": {},
   "outputs": [
    {
     "data": {
      "text/plain": [
       "Fatal (Y/N)\n",
       "N          1673\n",
       "UNKNOWN      15\n",
       "Y           259\n",
       "dtype: int64"
      ]
     },
     "metadata": {},
     "output_type": "display_data"
    }
   ],
   "source": [
    "#ataques mortales/year =(caza) no mortales/year = (defensa)\n",
    "\n",
    "year_size_fatal= dhf_years.groupby(dhf_years['Fatal (Y/N)']).size()\n",
    "display(year_size_fatal)\n",
    "\n",
    "#year_fatal_alive = pd.dhf_years.groupby(dhf_years['Fatal Y/N'])\n",
    "\n",
    "#df = pd.DataFrame(np.random.randn(1000, 4),\n",
    " #  ...:                   index=ts.index, columns=list('ABCD'))\n",
    "\n",
    "\n",
    "\n",
    "#year_size_fatal.plot(x='Year', y='Year')\n",
    "\n",
    "\n",
    "\n",
    "\n"
   ]
  },
  {
   "cell_type": "code",
   "execution_count": null,
   "metadata": {},
   "outputs": [],
   "source": [
    "#Asumo que si los tiburones nos estan cazando como minimo nos matan ya que es dificil que un humano enfrentandose\n",
    "#a un tiburon consiga escaparse. Por lo tanto, si el humano sobrevive significa que el tiburon esta defendiendo el \n",
    "#territorio o se siente amenzado. "
   ]
  },
  {
   "cell_type": "code",
   "execution_count": 18,
   "metadata": {},
   "outputs": [
    {
     "data": {
      "text/plain": [
       "Fatal (Y/N)\n",
       "N          1673\n",
       "UNKNOWN      15\n",
       "Y           259\n",
       "dtype: int64"
      ]
     },
     "metadata": {},
     "output_type": "display_data"
    }
   ],
   "source": [
    "countries_list11 = dhf_years.groupby(dhf_years['Fatal (Y/N)']).size()\n",
    "display(countries_list11.head())\n",
    "\n",
    "#Con los datos que he seleccionado tan solo se muestra que hay 259 fatales vs 1673 que sobreviven. Los tiburones no nos cazan,\n",
    "#tan solo los humanos nos metemos en su territorio y ellos se defienden. Puede que debido a la pesca masiva, calentamiento global,\n",
    "#u otros factores los tiburones se hayan desplazado hacia la costa y por tanto el numero de ataques se incrementa."
   ]
  },
  {
   "cell_type": "code",
   "execution_count": 15,
   "metadata": {},
   "outputs": [
    {
     "data": {
      "text/plain": [
       "Country\n",
       " TONGA                          2\n",
       "ANTIGUA                         1\n",
       "ARUBA                           1\n",
       "ATLANTIC OCEAN                  2\n",
       "AUSTRALIA                     302\n",
       "AZORES                          2\n",
       "BAHAMAS                        53\n",
       "BELIZE                          1\n",
       "BERMUDA                         1\n",
       "BRAZIL                         65\n",
       "BRITISH VIRGIN ISLANDS          1\n",
       "CANADA                          1\n",
       "CARIBBEAN SEA                   2\n",
       "CAYMAN ISLANDS                  1\n",
       "CHILE                           4\n",
       "CHINA                           1\n",
       "COLUMBIA                        2\n",
       "COSTA RICA                      3\n",
       "CROATIA                         2\n",
       "CUBA                            4\n",
       "DIEGO GARCIA                    1\n",
       "DOMINICAN REPUBLIC              3\n",
       "ECUADOR                         6\n",
       "EGYPT                          14\n",
       "EGYPT / ISRAEL                  1\n",
       "EL SALVADOR                     3\n",
       "ENGLAND                         3\n",
       "FIJI                           13\n",
       "FRANCE                          2\n",
       "FRENCH POLYNESIA               11\n",
       "                             ... \n",
       "PAPUA NEW GUINEA                5\n",
       "PHILIPPINES                     9\n",
       "PUERTO RICO                     1\n",
       "REUNION                        30\n",
       "RUSSIA                          4\n",
       "SAMOA                           1\n",
       "SCOTLAND                        3\n",
       "SENEGAL                         2\n",
       "SEYCHELLES                      4\n",
       "SOLOMON ISLANDS                 5\n",
       "SOMALIA                         5\n",
       "SOUTH AFRICA                  182\n",
       "SOUTH KOREA                     6\n",
       "SPAIN                          12\n",
       "SRI LANKA                       1\n",
       "ST. MARTIN                      1\n",
       "Sierra Leone                    1\n",
       "TAIWAN                          3\n",
       "THAILAND                        2\n",
       "TONGA                           5\n",
       "TRINIDAD & TOBAGO               2\n",
       "TUNISIA                         1\n",
       "TURKS & CAICOS                  5\n",
       "UNITED ARAB EMIRATES (UAE)      1\n",
       "UNITED KINGDOM                  3\n",
       "USA                           990\n",
       "VANUATU                         2\n",
       "VENEZUELA                       2\n",
       "VIETNAM                         4\n",
       "YEMEN                           1\n",
       "Length: 93, dtype: int64"
      ]
     },
     "metadata": {},
     "output_type": "display_data"
    }
   ],
   "source": [
    "countries_list = dhf_years.groupby(dhf_years['Country']).size()\n",
    "display(countries_list.head(100))\n",
    "\n",
    "#Por simplificar, elimino los paises en los que hay < 5 ataques"
   ]
  },
  {
   "cell_type": "code",
   "execution_count": 22,
   "metadata": {},
   "outputs": [
    {
     "ename": "AttributeError",
     "evalue": "'DataFrame' object has no attribute 'sort'",
     "output_type": "error",
     "traceback": [
      "\u001b[0;31m---------------------------------------------------------------------------\u001b[0m",
      "\u001b[0;31mAttributeError\u001b[0m                            Traceback (most recent call last)",
      "\u001b[0;32m<ipython-input-22-516cc4e6e491>\u001b[0m in \u001b[0;36m<module>\u001b[0;34m\u001b[0m\n\u001b[1;32m      2\u001b[0m \u001b[0;31m#1. Separate between countries between hemispheres. North_Summer = Jul - Sept // South_summer = dec - Mar\u001b[0m\u001b[0;34m\u001b[0m\u001b[0;34m\u001b[0m\u001b[0;34m\u001b[0m\u001b[0m\n\u001b[1;32m      3\u001b[0m \u001b[0;34m\u001b[0m\u001b[0m\n\u001b[0;32m----> 4\u001b[0;31m \u001b[0mcountries_size\u001b[0m \u001b[0;34m=\u001b[0m \u001b[0mdhf_years\u001b[0m\u001b[0;34m.\u001b[0m\u001b[0msort\u001b[0m\u001b[0;34m(\u001b[0m\u001b[0mdhf_years\u001b[0m\u001b[0;34m[\u001b[0m\u001b[0;34m'Country'\u001b[0m\u001b[0;34m]\u001b[0m\u001b[0;34m)\u001b[0m\u001b[0;34m\u001b[0m\u001b[0;34m\u001b[0m\u001b[0m\n\u001b[0m\u001b[1;32m      5\u001b[0m \u001b[0mdisplay\u001b[0m\u001b[0;34m(\u001b[0m\u001b[0mdhf_years\u001b[0m\u001b[0;34m.\u001b[0m\u001b[0mhead\u001b[0m\u001b[0;34m(\u001b[0m\u001b[0;36m20\u001b[0m\u001b[0;34m)\u001b[0m\u001b[0;34m)\u001b[0m\u001b[0;34m\u001b[0m\u001b[0;34m\u001b[0m\u001b[0m\n",
      "\u001b[0;32m~/Library/Python/3.7/lib/python/site-packages/pandas/core/generic.py\u001b[0m in \u001b[0;36m__getattr__\u001b[0;34m(self, name)\u001b[0m\n\u001b[1;32m   5065\u001b[0m             \u001b[0;32mif\u001b[0m \u001b[0mself\u001b[0m\u001b[0;34m.\u001b[0m\u001b[0m_info_axis\u001b[0m\u001b[0;34m.\u001b[0m\u001b[0m_can_hold_identifiers_and_holds_name\u001b[0m\u001b[0;34m(\u001b[0m\u001b[0mname\u001b[0m\u001b[0;34m)\u001b[0m\u001b[0;34m:\u001b[0m\u001b[0;34m\u001b[0m\u001b[0;34m\u001b[0m\u001b[0m\n\u001b[1;32m   5066\u001b[0m                 \u001b[0;32mreturn\u001b[0m \u001b[0mself\u001b[0m\u001b[0;34m[\u001b[0m\u001b[0mname\u001b[0m\u001b[0;34m]\u001b[0m\u001b[0;34m\u001b[0m\u001b[0;34m\u001b[0m\u001b[0m\n\u001b[0;32m-> 5067\u001b[0;31m             \u001b[0;32mreturn\u001b[0m \u001b[0mobject\u001b[0m\u001b[0;34m.\u001b[0m\u001b[0m__getattribute__\u001b[0m\u001b[0;34m(\u001b[0m\u001b[0mself\u001b[0m\u001b[0;34m,\u001b[0m \u001b[0mname\u001b[0m\u001b[0;34m)\u001b[0m\u001b[0;34m\u001b[0m\u001b[0;34m\u001b[0m\u001b[0m\n\u001b[0m\u001b[1;32m   5068\u001b[0m \u001b[0;34m\u001b[0m\u001b[0m\n\u001b[1;32m   5069\u001b[0m     \u001b[0;32mdef\u001b[0m \u001b[0m__setattr__\u001b[0m\u001b[0;34m(\u001b[0m\u001b[0mself\u001b[0m\u001b[0;34m,\u001b[0m \u001b[0mname\u001b[0m\u001b[0;34m,\u001b[0m \u001b[0mvalue\u001b[0m\u001b[0;34m)\u001b[0m\u001b[0;34m:\u001b[0m\u001b[0;34m\u001b[0m\u001b[0;34m\u001b[0m\u001b[0m\n",
      "\u001b[0;31mAttributeError\u001b[0m: 'DataFrame' object has no attribute 'sort'"
     ]
    }
   ],
   "source": [
    "#From now on: Find out if sharks are attacking more during summer vs winter: \n",
    "#1. Separate between countries between hemispheres. North_Summer = Jul - Sept // South_summer = dec - Mar\n",
    "\n",
    "countries_size = dhf_years.sort(dhf_years['Country']).size\n",
    "display(dhf_years.head(20))\n"
   ]
  },
  {
   "cell_type": "code",
   "execution_count": 28,
   "metadata": {},
   "outputs": [
    {
     "ename": "NameError",
     "evalue": "name 'Africa' is not defined",
     "output_type": "error",
     "traceback": [
      "\u001b[0;31m---------------------------------------------------------------------------\u001b[0m",
      "\u001b[0;31mNameError\u001b[0m                                 Traceback (most recent call last)",
      "\u001b[0;32m<ipython-input-28-d3601497ec03>\u001b[0m in \u001b[0;36m<module>\u001b[0;34m\u001b[0m\n\u001b[1;32m      1\u001b[0m \u001b[0mlist_countriesh\u001b[0m \u001b[0;34m=\u001b[0m \u001b[0;34m[\u001b[0m\u001b[0;34m]\u001b[0m\u001b[0;34m\u001b[0m\u001b[0;34m\u001b[0m\u001b[0m\n\u001b[1;32m      2\u001b[0m southern_hemisphere = (\n\u001b[0;32m----> 3\u001b[0;31m \u001b[0mAfrica\u001b[0m\u001b[0;34m,\u001b[0m\u001b[0;34m\u001b[0m\u001b[0;34m\u001b[0m\u001b[0m\n\u001b[0m\u001b[1;32m      4\u001b[0m \u001b[0mEntirely\u001b[0m\u001b[0;34m,\u001b[0m\u001b[0;34m\u001b[0m\u001b[0;34m\u001b[0m\u001b[0m\n\u001b[1;32m      5\u001b[0m \u001b[0mAngola\u001b[0m\u001b[0;34m,\u001b[0m\u001b[0;34m\u001b[0m\u001b[0;34m\u001b[0m\u001b[0m\n",
      "\u001b[0;31mNameError\u001b[0m: name 'Africa' is not defined"
     ]
    }
   ],
   "source": [
    "list_countriesh = []\n",
    "southern_hemisphere = (\n",
    "Africa,\n",
    "Entirely,\n",
    "Angola,\n",
    "Botswana,\n",
    "Burundi,\n",
    "Comoros,\n",
    "Eswatini,\n",
    "Lesotho,\n",
    "Madagascar,\n",
    "Malawi,\n",
    "Mauritius,\n",
    "Mayotte,\n",
    "Mozambique,\n",
    "Namibia,\n",
    "Réunion,\n",
    "Rwanda,\n",
    "Seychelles,\n",
    "\n",
    "Tanzania,\n",
    "Zambia,\n",
    "Zimbabwe,\n",
    "Mostly,\n",
    "\n",
    "Gabon,\n",
    "\n",
    "Partially,\n",
    "\n",
    "Kenya,\n",
    "\n",
    "Somalia,\n",
    "Uganda,\n",
    "Asia,\n",
    "Entirely,\n",
    ")\n",
    "\n",
    "for e in southern_hemisphere.split(','):\n",
    "    list_countriesh.append(e)\n",
    "    \n",
    "\n",
    "\n",
    "\n"
   ]
  },
  {
   "cell_type": "code",
   "execution_count": 16,
   "metadata": {},
   "outputs": [
    {
     "data": {
      "text/plain": [
       "'\\n\\n1. Separate nocturnal species (people barely have a bath at night)\\n2. A very small percentage of shark species, about two dozen, are considered potentially \\ndangerous to humans because of their size and dentition.\\n3. When a shark grabs a person by the hand/wrist and tows them along the surface, tosses a surfboard \\n(or a Frisbee as in case 1968.08.24) it is probably \"play behavior\", not aggression. \\nHow can case GSAF 1971.04.11 which the swimmer was repeatedly bitten by a large shark and case 1985.01.04 in which \\nthe diver\\'s injury necessitated a Band-aid be compared? \\n4. Global Shark Attack File believes the only way to sort fact from hype is by forensic examination of each incident. \\n5. Sexo: Male = mas comida porque somos mas grandes. Lo mismo con la edad.\\n6. fatal: quedan restos de comida? defienden su territorio\\n7. El nombre no lo elimino ya que me puede dar el genero en caso de que falte. \\n8. Species me sirve para saber si el ataque ha sido con intencion de alimenartse (carnivoro), o defensa (herbivoro)\\n9. El anyo me hace falta para ver si estamos invadiendo su ecosistema y por eso se mueven mas cerca de las playas.\\n10. Reason: Sharks learn and remember what they have learned.\\n11.Avoid swimming at night. Reason: There is strong evidence to suggest that sharks move in closer \\nto a land mass (island or shore) following sunset.\\nAvoid swimming in areas where birds are diving into the water. \\nReason: Diving birds indicate schools of fish are in the area and the likelihood that sharks in the area is increased.\\n'"
      ]
     },
     "execution_count": 16,
     "metadata": {},
     "output_type": "execute_result"
    }
   ],
   "source": [
    "#todaytime pandas para convertir sep-2018 a 09-2018\n",
    "\n",
    "#ideas: \n",
    "\"\"\"\n",
    "\n",
    "1. Separate nocturnal species (people barely have a bath at night)\n",
    "2. A very small percentage of shark species, about two dozen, are considered potentially \n",
    "dangerous to humans because of their size and dentition.\n",
    "3. When a shark grabs a person by the hand/wrist and tows them along the surface, tosses a surfboard \n",
    "(or a Frisbee as in case 1968.08.24) it is probably \"play behavior\", not aggression. \n",
    "How can case GSAF 1971.04.11 which the swimmer was repeatedly bitten by a large shark and case 1985.01.04 in which \n",
    "the diver's injury necessitated a Band-aid be compared? \n",
    "4. Global Shark Attack File believes the only way to sort fact from hype is by forensic examination of each incident. \n",
    "5. Sexo: Male = mas comida porque somos mas grandes. Lo mismo con la edad.\n",
    "6. fatal: quedan restos de comida? defienden su territorio\n",
    "7. El nombre no lo elimino ya que me puede dar el genero en caso de que falte. \n",
    "8. Species me sirve para saber si el ataque ha sido con intencion de alimenartse (carnivoro), o defensa (herbivoro)\n",
    "9. El anyo me hace falta para ver si estamos invadiendo su ecosistema y por eso se mueven mas cerca de las playas.\n",
    "10. Reason: Sharks learn and remember what they have learned.\n",
    "11.Avoid swimming at night. Reason: There is strong evidence to suggest that sharks move in closer \n",
    "to a land mass (island or shore) following sunset.\n",
    "Avoid swimming in areas where birds are diving into the water. \n",
    "Reason: Diving birds indicate schools of fish are in the area and the likelihood that sharks in the area is increased.\n",
    "\"\"\"\n",
    "\n",
    "\n",
    "\n",
    "\n",
    "\n"
   ]
  },
  {
   "cell_type": "code",
   "execution_count": null,
   "metadata": {},
   "outputs": [],
   "source": []
  },
  {
   "cell_type": "code",
   "execution_count": null,
   "metadata": {},
   "outputs": [],
   "source": []
  }
 ],
 "metadata": {
  "kernelspec": {
   "display_name": "Python 3",
   "language": "python",
   "name": "python3"
  },
  "language_info": {
   "codemirror_mode": {
    "name": "ipython",
    "version": 3
   },
   "file_extension": ".py",
   "mimetype": "text/x-python",
   "name": "python",
   "nbconvert_exporter": "python",
   "pygments_lexer": "ipython3",
   "version": "3.7.2"
  }
 },
 "nbformat": 4,
 "nbformat_minor": 2
}
