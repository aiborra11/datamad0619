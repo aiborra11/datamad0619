{
 "cells": [
  {
   "cell_type": "code",
   "execution_count": 1,
   "metadata": {},
   "outputs": [],
   "source": [
    "import json\n",
    "import requests"
   ]
  },
  {
   "cell_type": "code",
   "execution_count": 7,
   "metadata": {},
   "outputs": [
    {
     "name": "stdout",
     "output_type": "stream",
     "text": [
      "{'Python', 'HTML', 'Jupyter Notebook'}\n"
     ]
    }
   ],
   "source": [
    "with open(\"../token.txt\", \"r\") as myfile:\n",
    "    acceso = myfile.readlines()\n",
    "    \n",
    "key = acceso[0]\n",
    "user = 'aiborra11'\n",
    "\n",
    "repo = 'ironhack-datalabs/madrid-oct-2018'\n",
    "get_forks = 'http://api.github.com/repos/'+ repo +'/forks'\n",
    "\n",
    "res_fork = requests.get(get_forks, auth=(user, key))\n",
    "results_fork = res_fork.json()\n",
    "\n",
    "languages = set()\n",
    "for i in range(len(results_fork)):\n",
    "    languages.add(results_fork[i]['language'])\n",
    "\n",
    "print(languages)\n"
   ]
  },
  {
   "cell_type": "code",
   "execution_count": null,
   "metadata": {},
   "outputs": [],
   "source": []
  }
 ],
 "metadata": {
  "kernelspec": {
   "display_name": "Python 3",
   "language": "python",
   "name": "python3"
  },
  "language_info": {
   "codemirror_mode": {
    "name": "ipython",
    "version": 3
   },
   "file_extension": ".py",
   "mimetype": "text/x-python",
   "name": "python",
   "nbconvert_exporter": "python",
   "pygments_lexer": "ipython3",
   "version": "3.7.2"
  }
 },
 "nbformat": 4,
 "nbformat_minor": 2
}
