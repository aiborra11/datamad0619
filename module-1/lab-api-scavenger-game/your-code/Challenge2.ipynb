{
 "cells": [
  {
   "cell_type": "code",
   "execution_count": 1,
   "metadata": {},
   "outputs": [],
   "source": [
    "import json\n",
    "import requests"
   ]
  },
  {
   "cell_type": "code",
   "execution_count": 2,
   "metadata": {},
   "outputs": [
    {
     "name": "stdout",
     "output_type": "stream",
     "text": [
      "0\n"
     ]
    }
   ],
   "source": [
    "with open ('../token.txt', 'r') as myfile:\n",
    "    access = myfile.readlines()\n",
    "\n",
    "key = access[0]\n",
    "user = 'aiborra11'\n",
    "\n",
    "get_commits = 'http://api.github.com/repos/ironhack-datalabs/datamad0619/commits?since=2019-06-23T00:00:00Z&until=2019-06-26T00:00:00Z'\n",
    "\n",
    "res_commit = requests.get(get_commits, auth=(user, key))\n",
    "results_commit= res_commit.json()\n",
    "\n",
    "commits = 0\n",
    "for i in results_commit:\n",
    "    if 'committer' in results_commit:\n",
    "        commits += 1\n",
    "\n",
    "\n",
    "print(commits)\n",
    "\n"
   ]
  },
  {
   "cell_type": "code",
   "execution_count": null,
   "metadata": {},
   "outputs": [],
   "source": []
  },
  {
   "cell_type": "code",
   "execution_count": null,
   "metadata": {},
   "outputs": [],
   "source": []
  }
 ],
 "metadata": {
  "kernelspec": {
   "display_name": "Python 3",
   "language": "python",
   "name": "python3"
  },
  "language_info": {
   "codemirror_mode": {
    "name": "ipython",
    "version": 3
   },
   "file_extension": ".py",
   "mimetype": "text/x-python",
   "name": "python",
   "nbconvert_exporter": "python",
   "pygments_lexer": "ipython3",
   "version": "3.7.2"
  }
 },
 "nbformat": 4,
 "nbformat_minor": 2
}
