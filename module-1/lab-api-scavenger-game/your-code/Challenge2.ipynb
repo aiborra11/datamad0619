{
 "cells": [
  {
   "cell_type": "code",
   "execution_count": 1,
   "metadata": {},
   "outputs": [],
   "source": [
    "import json\n",
    "import requests"
   ]
  },
  {
   "cell_type": "code",
   "execution_count": 14,
   "metadata": {},
   "outputs": [
    {
     "name": "stdout",
     "output_type": "stream",
     "text": [
      "{'sha': '1250b518b34756ed420ffa35b8427b6d29db6de6', 'node_id': 'MDY6Q29tbWl0MTkxMTcyODUyOjEyNTBiNTE4YjM0NzU2ZWQ0MjBmZmEzNWI4NDI3YjZkMjlkYjZkZTY=', 'commit': {'author': {'name': 'Marc Pomar', 'email': 'marc@faable.com', 'date': '2019-06-24T08:39:51Z'}, 'committer': {'name': 'Marc Pomar', 'email': 'marc@faable.com', 'date': '2019-06-24T08:39:51Z'}, 'message': \"Merge branch 'master' of github.com:ironhack-datalabs/datamad0619\", 'tree': {'sha': '6a0e7a7946affef05585a4fda6c82311b8fb4f98', 'url': 'https://api.github.com/repos/ironhack-datalabs/datamad0619/git/trees/6a0e7a7946affef05585a4fda6c82311b8fb4f98'}, 'url': 'https://api.github.com/repos/ironhack-datalabs/datamad0619/git/commits/1250b518b34756ed420ffa35b8427b6d29db6de6', 'comment_count': 0, 'verification': {'verified': False, 'reason': 'unsigned', 'signature': None, 'payload': None}}, 'url': 'https://api.github.com/repos/ironhack-datalabs/datamad0619/commits/1250b518b34756ed420ffa35b8427b6d29db6de6', 'html_url': 'https://github.com/ironhack-datalabs/datamad0619/commit/1250b518b34756ed420ffa35b8427b6d29db6de6', 'comments_url': 'https://api.github.com/repos/ironhack-datalabs/datamad0619/commits/1250b518b34756ed420ffa35b8427b6d29db6de6/comments', 'author': {'login': 'boyander', 'id': 568638, 'node_id': 'MDQ6VXNlcjU2ODYzOA==', 'avatar_url': 'https://avatars1.githubusercontent.com/u/568638?v=4', 'gravatar_id': '', 'url': 'https://api.github.com/users/boyander', 'html_url': 'https://github.com/boyander', 'followers_url': 'https://api.github.com/users/boyander/followers', 'following_url': 'https://api.github.com/users/boyander/following{/other_user}', 'gists_url': 'https://api.github.com/users/boyander/gists{/gist_id}', 'starred_url': 'https://api.github.com/users/boyander/starred{/owner}{/repo}', 'subscriptions_url': 'https://api.github.com/users/boyander/subscriptions', 'organizations_url': 'https://api.github.com/users/boyander/orgs', 'repos_url': 'https://api.github.com/users/boyander/repos', 'events_url': 'https://api.github.com/users/boyander/events{/privacy}', 'received_events_url': 'https://api.github.com/users/boyander/received_events', 'type': 'User', 'site_admin': False}, 'committer': {'login': 'boyander', 'id': 568638, 'node_id': 'MDQ6VXNlcjU2ODYzOA==', 'avatar_url': 'https://avatars1.githubusercontent.com/u/568638?v=4', 'gravatar_id': '', 'url': 'https://api.github.com/users/boyander', 'html_url': 'https://github.com/boyander', 'followers_url': 'https://api.github.com/users/boyander/followers', 'following_url': 'https://api.github.com/users/boyander/following{/other_user}', 'gists_url': 'https://api.github.com/users/boyander/gists{/gist_id}', 'starred_url': 'https://api.github.com/users/boyander/starred{/owner}{/repo}', 'subscriptions_url': 'https://api.github.com/users/boyander/subscriptions', 'organizations_url': 'https://api.github.com/users/boyander/orgs', 'repos_url': 'https://api.github.com/users/boyander/repos', 'events_url': 'https://api.github.com/users/boyander/events{/privacy}', 'received_events_url': 'https://api.github.com/users/boyander/received_events', 'type': 'User', 'site_admin': False}, 'parents': [{'sha': '28d577524b93371b471b62538dcae515429406b4', 'url': 'https://api.github.com/repos/ironhack-datalabs/datamad0619/commits/28d577524b93371b471b62538dcae515429406b4', 'html_url': 'https://github.com/ironhack-datalabs/datamad0619/commit/28d577524b93371b471b62538dcae515429406b4'}, {'sha': 'a33a61896e606d86bc12ab3348daff27b09b3918', 'url': 'https://api.github.com/repos/ironhack-datalabs/datamad0619/commits/a33a61896e606d86bc12ab3348daff27b09b3918', 'html_url': 'https://github.com/ironhack-datalabs/datamad0619/commit/a33a61896e606d86bc12ab3348daff27b09b3918'}]}\n",
      "{'sha': '28d577524b93371b471b62538dcae515429406b4', 'node_id': 'MDY6Q29tbWl0MTkxMTcyODUyOjI4ZDU3NzUyNGI5MzM3MWI0NzFiNjI1MzhkY2FlNTE1NDI5NDA2YjQ=', 'commit': {'author': {'name': 'Marc Pomar', 'email': 'marc@faable.com', 'date': '2019-06-24T08:36:37Z'}, 'committer': {'name': 'Marc Pomar', 'email': 'marc@faable.com', 'date': '2019-06-24T08:36:37Z'}, 'message': 'Pokemon lab from bcn', 'tree': {'sha': '9778f32c56e0d835f0a4753b4c4d3703a937ce98', 'url': 'https://api.github.com/repos/ironhack-datalabs/datamad0619/git/trees/9778f32c56e0d835f0a4753b4c4d3703a937ce98'}, 'url': 'https://api.github.com/repos/ironhack-datalabs/datamad0619/git/commits/28d577524b93371b471b62538dcae515429406b4', 'comment_count': 0, 'verification': {'verified': False, 'reason': 'unsigned', 'signature': None, 'payload': None}}, 'url': 'https://api.github.com/repos/ironhack-datalabs/datamad0619/commits/28d577524b93371b471b62538dcae515429406b4', 'html_url': 'https://github.com/ironhack-datalabs/datamad0619/commit/28d577524b93371b471b62538dcae515429406b4', 'comments_url': 'https://api.github.com/repos/ironhack-datalabs/datamad0619/commits/28d577524b93371b471b62538dcae515429406b4/comments', 'author': {'login': 'boyander', 'id': 568638, 'node_id': 'MDQ6VXNlcjU2ODYzOA==', 'avatar_url': 'https://avatars1.githubusercontent.com/u/568638?v=4', 'gravatar_id': '', 'url': 'https://api.github.com/users/boyander', 'html_url': 'https://github.com/boyander', 'followers_url': 'https://api.github.com/users/boyander/followers', 'following_url': 'https://api.github.com/users/boyander/following{/other_user}', 'gists_url': 'https://api.github.com/users/boyander/gists{/gist_id}', 'starred_url': 'https://api.github.com/users/boyander/starred{/owner}{/repo}', 'subscriptions_url': 'https://api.github.com/users/boyander/subscriptions', 'organizations_url': 'https://api.github.com/users/boyander/orgs', 'repos_url': 'https://api.github.com/users/boyander/repos', 'events_url': 'https://api.github.com/users/boyander/events{/privacy}', 'received_events_url': 'https://api.github.com/users/boyander/received_events', 'type': 'User', 'site_admin': False}, 'committer': {'login': 'boyander', 'id': 568638, 'node_id': 'MDQ6VXNlcjU2ODYzOA==', 'avatar_url': 'https://avatars1.githubusercontent.com/u/568638?v=4', 'gravatar_id': '', 'url': 'https://api.github.com/users/boyander', 'html_url': 'https://github.com/boyander', 'followers_url': 'https://api.github.com/users/boyander/followers', 'following_url': 'https://api.github.com/users/boyander/following{/other_user}', 'gists_url': 'https://api.github.com/users/boyander/gists{/gist_id}', 'starred_url': 'https://api.github.com/users/boyander/starred{/owner}{/repo}', 'subscriptions_url': 'https://api.github.com/users/boyander/subscriptions', 'organizations_url': 'https://api.github.com/users/boyander/orgs', 'repos_url': 'https://api.github.com/users/boyander/repos', 'events_url': 'https://api.github.com/users/boyander/events{/privacy}', 'received_events_url': 'https://api.github.com/users/boyander/received_events', 'type': 'User', 'site_admin': False}, 'parents': [{'sha': '5c41ae7f75a6c99b587e2d786ebb164119b1511d', 'url': 'https://api.github.com/repos/ironhack-datalabs/datamad0619/commits/5c41ae7f75a6c99b587e2d786ebb164119b1511d', 'html_url': 'https://github.com/ironhack-datalabs/datamad0619/commit/5c41ae7f75a6c99b587e2d786ebb164119b1511d'}]}\n",
      "0\n"
     ]
    }
   ],
   "source": [
    "with open ('../token.txt', 'r') as myfile:\n",
    "    access = myfile.readlines()\n",
    "\n",
    "key = access[0]\n",
    "user = 'aiborra11'\n",
    "\n",
    "get_commits = 'http://api.github.com/repos/ironhack-datalabs/datamad0619/commits?since=2019-06-17T00:00:00Z'\n",
    "res_commit = requests.get(get_commits, auth=(user, key))\n",
    "results_commit= res_commit.json()\n",
    "\n",
    "#print(results_commit)\n",
    "commits = 0\n",
    "for i in results_commit:\n",
    "    print(i)\n",
    "    #if 'committer' in results_commit:\n",
    "        #commits += 1\n",
    "        \n",
    "\n",
    "        \n",
    "\n",
    "print(commits)\n",
    "\n"
   ]
  },
  {
   "cell_type": "code",
   "execution_count": null,
   "metadata": {},
   "outputs": [],
   "source": []
  },
  {
   "cell_type": "code",
   "execution_count": null,
   "metadata": {},
   "outputs": [],
   "source": []
  }
 ],
 "metadata": {
  "kernelspec": {
   "display_name": "Python 3",
   "language": "python",
   "name": "python3"
  },
  "language_info": {
   "codemirror_mode": {
    "name": "ipython",
    "version": 3
   },
   "file_extension": ".py",
   "mimetype": "text/x-python",
   "name": "python",
   "nbconvert_exporter": "python",
   "pygments_lexer": "ipython3",
   "version": "3.7.2"
  }
 },
 "nbformat": 4,
 "nbformat_minor": 2
}
