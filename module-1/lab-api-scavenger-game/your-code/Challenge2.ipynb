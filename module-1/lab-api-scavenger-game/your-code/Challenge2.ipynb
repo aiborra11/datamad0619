{
 "cells": [
  {
   "cell_type": "code",
   "execution_count": 1,
   "metadata": {},
   "outputs": [],
   "source": [
    "import json\n",
    "import requests"
   ]
  },
  {
   "cell_type": "code",
   "execution_count": 18,
   "metadata": {},
   "outputs": [
    {
     "name": "stdout",
     "output_type": "stream",
     "text": [
      "2\n"
     ]
    }
   ],
   "source": [
    "with open ('../token.txt', 'r') as myfile:\n",
    "    access = myfile.readlines()\n",
    "\n",
    "key = access[0]\n",
    "user = 'aiborra11'\n",
    "\n",
    "get_commits = 'http://api.github.com/repos/ironhack-datalabs/datamad0619/commits?since=2019-06-17T00:00:00Z'\n",
    "res_commit = requests.get(get_commits, auth=(user, key))\n",
    "results_commit= res_commit.json()\n",
    "\n",
    "commits = 0\n",
    "for i in results_commit:\n",
    "    for dic in i.items():\n",
    "        if 'committer' in dic:\n",
    "            commits += 1\n",
    "\n",
    "print(commits)\n",
    "\n",
    "\n"
   ]
  },
  {
   "cell_type": "code",
   "execution_count": null,
   "metadata": {},
   "outputs": [],
   "source": []
  }
 ],
 "metadata": {
  "kernelspec": {
   "display_name": "Python 3",
   "language": "python",
   "name": "python3"
  },
  "language_info": {
   "codemirror_mode": {
    "name": "ipython",
    "version": 3
   },
   "file_extension": ".py",
   "mimetype": "text/x-python",
   "name": "python",
   "nbconvert_exporter": "python",
   "pygments_lexer": "ipython3",
   "version": "3.7.2"
  }
 },
 "nbformat": 4,
 "nbformat_minor": 2
}
